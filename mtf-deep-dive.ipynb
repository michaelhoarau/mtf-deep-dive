{
 "cells": [
  {
   "cell_type": "markdown",
   "metadata": {},
   "source": [
    "# Using Markov transition fields and network graphs to uncover time series behavior\n",
    "Markov transition fields (MTF) is a visualization technique to highlight behavior of time series. This notebook dives into how we build and interpret these fields. We will then further build on top of MTF by exploring network graphs interpretation.\n",
    "\n",
    "## Initialization\n",
    "---\n",
    "### Notebook instance update"
   ]
  },
  {
   "cell_type": "code",
   "execution_count": null,
   "metadata": {},
   "outputs": [],
   "source": [
    "# This is a time series imaging analysis module:\n",
    "!pip install --upgrade tsia"
   ]
  },
  {
   "cell_type": "code",
   "execution_count": null,
   "metadata": {},
   "outputs": [],
   "source": [
    "# Restart notebook kernel:\n",
    "from IPython.core.display import HTML\n",
    "HTML(\"<script>Jupyter.notebook.kernel.restart()</script>\")"
   ]
  },
  {
   "cell_type": "markdown",
   "metadata": {},
   "source": [
    "### Imports"
   ]
  },
  {
   "cell_type": "code",
   "execution_count": null,
   "metadata": {},
   "outputs": [],
   "source": [
    "import matplotlib.pyplot as plt\n",
    "import numpy as np\n",
    "import os\n",
    "import pandas as pd\n",
    "import sys\n",
    "\n",
    "from matplotlib import gridspec\n",
    "from numba import njit, prange\n",
    "from pyts.image import MarkovTransitionField\n",
    "\n",
    "import tsia.plot\n",
    "import tsia.markov\n",
    "import tsia.network_graph"
   ]
  },
  {
   "cell_type": "code",
   "execution_count": null,
   "metadata": {},
   "outputs": [],
   "source": [
    "%matplotlib inline\n",
    "plt.style.use('Solarize_Light2')"
   ]
  },
  {
   "cell_type": "markdown",
   "metadata": {},
   "source": [
    "## Loading data of interest\n",
    "---"
   ]
  },
  {
   "cell_type": "markdown",
   "metadata": {},
   "source": [
    "### Load tag time series"
   ]
  },
  {
   "cell_type": "code",
   "execution_count": null,
   "metadata": {},
   "outputs": [],
   "source": [
    "DATA = 'data'\n",
    "tag_df = pd.read_csv(os.path.join(DATA, 'signal-1.csv'))\n",
    "tag_df['timestamp'] = pd.to_datetime(tag_df['timestamp'], format='%Y-%m-%dT%H:%M:%S.%f')\n",
    "tag_df = tag_df.set_index('timestamp')\n",
    "\n",
    "fig = plt.figure(figsize=(28,4))\n",
    "plt.plot(tag_df, linewidth=0.5)\n",
    "plt.show()"
   ]
  },
  {
   "cell_type": "markdown",
   "metadata": {},
   "source": [
    "## Markov Transition Fields (MTF)\n",
    "---\n",
    "### MTF overview"
   ]
  },
  {
   "cell_type": "markdown",
   "metadata": {},
   "source": [
    "The `pyts` package includes some time series imaging capabilities out of the box, like the **Markov Transition Fields**:"
   ]
  },
  {
   "cell_type": "code",
   "execution_count": null,
   "metadata": {},
   "outputs": [],
   "source": [
    "n_bins = 8\n",
    "strategy = 'quantile'\n",
    "X = tag_df.values.reshape(1, -1)\n",
    "n_samples, n_timestamps = X.shape\n",
    "\n",
    "mtf = MarkovTransitionField(image_size=48, n_bins=n_bins, strategy=strategy)\n",
    "tag_mtf = mtf.fit_transform(X)"
   ]
  },
  {
   "cell_type": "code",
   "execution_count": null,
   "metadata": {},
   "outputs": [],
   "source": [
    "fig = plt.figure(figsize=(5,4))\n",
    "ax = fig.add_subplot(111)\n",
    "_, mappable_image = tsia.plot.plot_markov_transition_field(mtf=tag_mtf[0], ax=ax, reversed_cmap=True)\n",
    "plt.colorbar(mappable_image);"
   ]
  },
  {
   "cell_type": "markdown",
   "metadata": {},
   "source": [
    "### Process decomposition\n",
    "In the following sections, we are going to decompose the way a Markov transition fields is built to better understand its properties and how it can be used to build our understanding of time series behavior:\n",
    "\n",
    "1. Discretize the timeseries along the different values it can take\n",
    "2. Build the Markov transition **matrix**\n",
    "3. Compute transition probabilities\n",
    "4. Compute the Markov transition **field**\n",
    "5. Compute an aggregated MTF\n",
    "6. Extracting metrics\n",
    "7. Mapping transition probabilities back to the initial signals"
   ]
  },
  {
   "cell_type": "markdown",
   "metadata": {},
   "source": [
    "#### **1 -** Discretization"
   ]
  },
  {
   "cell_type": "code",
   "execution_count": null,
   "metadata": {},
   "outputs": [],
   "source": [
    "X_binned, bin_edges = tsia.markov.discretize(tag_df)"
   ]
  },
  {
   "cell_type": "markdown",
   "metadata": {},
   "source": [
    "Each value `x[i]` of the timeseries is associated to one of the bin (quantile) we just computed:"
   ]
  },
  {
   "cell_type": "code",
   "execution_count": null,
   "metadata": {},
   "outputs": [],
   "source": [
    "X_binned"
   ]
  },
  {
   "cell_type": "markdown",
   "metadata": {},
   "source": [
    "The first and the last bin edges respectively correspond to the lowest and highest value taken by the signal. The intermediate bin edges are computed by the discretizer. This  quantization process bins the different values taken by this signal in the following bins:"
   ]
  },
  {
   "cell_type": "code",
   "execution_count": null,
   "metadata": {},
   "outputs": [],
   "source": [
    "bin_edges"
   ]
  },
  {
   "cell_type": "markdown",
   "metadata": {},
   "source": [
    "Let's plot these bins over the time series to visualize how the values are discretized:"
   ]
  },
  {
   "cell_type": "code",
   "execution_count": null,
   "metadata": {},
   "outputs": [],
   "source": [
    "tsia.plot.plot_timeseries_quantiles(tag_df, bin_edges, label='signal-1')\n",
    "plt.legend();"
   ]
  },
  {
   "cell_type": "markdown",
   "metadata": {},
   "source": [
    "#### **2 -** Build the Markov transition matrix"
   ]
  },
  {
   "cell_type": "code",
   "execution_count": null,
   "metadata": {},
   "outputs": [],
   "source": [
    "X_mtm = tsia.markov.markov_transition_matrix(X_binned)\n",
    "X_mtm"
   ]
  },
  {
   "cell_type": "markdown",
   "metadata": {},
   "source": [
    "**How to read the Markov transition matrix?** Let's have a look at the first row: **`| 465 | 86 | 1 | 0 | 0 | 0 | 0 | 0 |`**.\n",
    "\n",
    "* The first cell tells us that 465 points that are in the bin 0 (with values between 82.43 and 118.42) are followed by a value that stays in this very bin.\n",
    "* The second cell tells us that 86 points that are in bin 0 transition to the next bin (with a value between 118.42 and 137.42)\n",
    "* ...\n",
    "* The eighth cell tells us that no point from bin 0 transition to the last bin\n",
    "\n",
    "Let's now have a look at the second row: **`| 80 | 405 | 63 | 2 | 0 | 2 | 0 | 0 |`**. The first cell tells us that 80 points that are in bin 1 (with a value between 118.42 and 137.42) are followed by a value that is in bin 0 (between 82.43 and 118.42)\n",
    "\n",
    "The diagonal captures the frequency at which a quantile transitions to itself (*self-transition frequency*)."
   ]
  },
  {
   "cell_type": "markdown",
   "metadata": {},
   "source": [
    "#### **3 -** Compute transition probabilities"
   ]
  },
  {
   "cell_type": "markdown",
   "metadata": {},
   "source": [
    "**Normalization**: we will now normalize each bin. This matrix contains now the transition probability on the magnitude axis."
   ]
  },
  {
   "cell_type": "code",
   "execution_count": null,
   "metadata": {},
   "outputs": [],
   "source": [
    "X_mtm = tsia.markov.markov_transition_probabilities(X_mtm)\n",
    "np.round(X_mtm * 100, 1)"
   ]
  },
  {
   "cell_type": "markdown",
   "metadata": {},
   "source": [
    "The first column correspond to the probabilities that a given value (part of a given bin) transitions to bin 0. The second column are probabilities that a given value transitions to bin 1, etc. For instance, if a given value `X[i]` is equal to **130.0**, it is between **118.42 and 137.42** and it's binned in bin 1. Given the matrix above, there is:\n",
    "* A **14.5%** chance that the next value will be between **82.43 and 118.42** (bin 0)\n",
    "* A **73.4%** chance to stay within the same range (between **118.42 and 137.42**, bin 1)\n",
    "* A **11.4%** chance that the next value will be between **137.42 and 156.78** (bin 2)\n",
    "* Etc."
   ]
  },
  {
   "cell_type": "markdown",
   "metadata": {},
   "source": [
    "#### **4 -** Compute the Markov transition **field**\n",
    "The idea of the transition field is to represent the Markov transition probabilities sequentially to preserve the information in the time domain. The MTF generation process aligns each probability along the temporal order to build the MTF for the whole signal:"
   ]
  },
  {
   "cell_type": "code",
   "execution_count": null,
   "metadata": {},
   "outputs": [],
   "source": [
    "@njit()\n",
    "def _markov_transition_field(X_binned, X_mtm, n_timestamps, n_bins):\n",
    "    X_mtf = np.zeros((n_timestamps, n_timestamps))\n",
    "    \n",
    "    # We loop through each timestamp twice to build a N x N matrix:\n",
    "    for i in prange(n_timestamps):\n",
    "        for j in prange(n_timestamps):\n",
    "            # We align each probability along the temporal order: MTF(i,j) \n",
    "            # denotes the transition probability of the bin 'i' to the bin \n",
    "            # 'j':\n",
    "            X_mtf[i, j] = X_mtm[X_binned[i], X_binned[j]]\n",
    "            \n",
    "    return X_mtf\n",
    "\n",
    "X_mtf = _markov_transition_field(X_binned, X_mtm, n_timestamps, n_bins)\n",
    "np.round(X_mtf * 100, 1)"
   ]
  },
  {
   "cell_type": "markdown",
   "metadata": {},
   "source": [
    "**How to read the Markov transition field?** **`MTF[i,j]`** denotes the transition probability from the quantile **`q[i]`** to the quantile **`q[j]`**. Let's have a look at a couple values in the second row of this field:"
   ]
  },
  {
   "cell_type": "code",
   "execution_count": null,
   "metadata": {},
   "outputs": [],
   "source": [
    "second_row = np.round(X_mtf * 100, 1)[1]\n",
    "second_row[0:10]"
   ]
  },
  {
   "cell_type": "markdown",
   "metadata": {},
   "source": [
    "Let's have a look at **`M[1,2]`**:\n",
    "\n",
    "* We look in which bin falls the signal at timestep **`x[1]`**: this is **`X_binned[1] = 2`**\n",
    "* We also look in which bin falls the signal at timestep **`x[2]`**: this is **`X_binned[2] = 2`**\n",
    "* We then look up into the Markov transition matrix to get the probability that a value from bin 2 stays into bin 2\n",
    "* This value is **68.8%**, hence **`M[1,2] = 68.8%`**\n",
    "\n",
    "What does this mean? Well, the transition that occurs between timestep `x[1]` and timestamp `x[2]` has an **68.8%** chance from happening when looking at the whole signal.\n",
    "\n",
    "Let's now have a look at **`M[1,6]`**:\n",
    "\n",
    "* We look in which bin falls the signal at timestep **`x[1]`**: this is **`X_binned[1] = 2`**\n",
    "* We also look in which bin falls the signal at timestep **`x[10]`**: this is **`X_binned[6] = 1`**\n",
    "* We then look up into the Markov transition matrix to get the probability that a value from bin 2 transitions into bin 1\n",
    "* This value is **10.7%**, hence **`M[1,6] = 10.7%`**\n",
    "\n",
    "The transition that happens between timestep `x[1]` and `x[6]` has a **10.7%** chance of happening when looking at the whole signal."
   ]
  },
  {
   "cell_type": "code",
   "execution_count": null,
   "metadata": {},
   "outputs": [],
   "source": [
    "fig = plt.figure(figsize=(15,12))\n",
    "ax = fig.add_subplot(1,1,1)\n",
    "_, mappable_image = tsia.plot.plot_markov_transition_field(mtf=X_mtf, ax=ax, reversed_cmap=True)\n",
    "plt.colorbar(mappable_image);"
   ]
  },
  {
   "cell_type": "markdown",
   "metadata": {},
   "source": [
    "#### **5 -** Compute an aggregated MTF"
   ]
  },
  {
   "cell_type": "markdown",
   "metadata": {},
   "source": [
    "To make the image size manageable and computation more efficient *(the above MTF is a matrix of dimension 4116 x 4116)*, we reduce the MTF size by averaging the pixels in each non-overlapping `m x m` patch with the blurring kernel `1/m²`. `m` is the image size and we set it, arbitrarily, to 48 above. That is, we aggregate the transition probabilities in each subsequence of length `m = 48` together. Let's compute an aggregated MTF accordingly:"
   ]
  },
  {
   "cell_type": "code",
   "execution_count": null,
   "metadata": {},
   "outputs": [],
   "source": [
    "image_size = 48\n",
    "window_size, remainder = divmod(n_timestamps, image_size)\n",
    "\n",
    "if remainder == 0:\n",
    "    X_amtf = np.reshape(\n",
    "        X_mtf, (image_size, window_size, image_size, window_size)\n",
    "    ).mean(axis=(1, 3))\n",
    "    \n",
    "else:\n",
    "    # Needs to compute piecewise aggregate approximation in this case. This\n",
    "    # is fully implemented in the pyts package\n",
    "    pass"
   ]
  },
  {
   "cell_type": "markdown",
   "metadata": {},
   "source": [
    "We can now plot the aggregated MTF and find the initial results obtained with the **`pyts.image`** Python module:"
   ]
  },
  {
   "cell_type": "code",
   "execution_count": null,
   "metadata": {},
   "outputs": [],
   "source": [
    "fig = plt.figure(figsize=(5,4))\n",
    "ax = fig.add_subplot(1,1,1)\n",
    "_, mappable_image = tsia.plot.plot_markov_transition_field(mtf=X_amtf, ax=ax, reversed_cmap=True)\n",
    "plt.colorbar(mappable_image);"
   ]
  },
  {
   "cell_type": "markdown",
   "metadata": {},
   "source": [
    "#### **6 -** Extracting metrics\n",
    "The diagonal of the MTF contains probabilities for the self-transitions:\n",
    "* Self-transition probabilities are probabilities to move from a quantile to the same one on the next timestep).\n",
    "* We can extract the characteristic of this distribution (mean and standard deviation).\n",
    "* The other diagonals of the MTF are harder to interpret but can still be plotted."
   ]
  },
  {
   "cell_type": "code",
   "execution_count": null,
   "metadata": {},
   "outputs": [],
   "source": [
    "_ = tsia.plot.plot_mtf_metrics(X_amtf)"
   ]
  },
  {
   "cell_type": "markdown",
   "metadata": {},
   "source": [
    "#### **7 -** Mapping transition probabilities back to the initial signals\n",
    "One way we can map back these probabilities on the original signal, is to take the transition probabilities shown on the diagonal of the MTF:"
   ]
  },
  {
   "cell_type": "code",
   "execution_count": null,
   "metadata": {},
   "outputs": [],
   "source": [
    "mtf_map = tsia.markov.get_mtf_map(tag_df, X_amtf, reversed_cmap=True)\n",
    "_ = tsia.plot.plot_colored_timeseries(tag_df, mtf_map)"
   ]
  },
  {
   "cell_type": "code",
   "execution_count": null,
   "metadata": {},
   "outputs": [],
   "source": [
    "def plot_colored_timeseries(tag, image_size=96, colormap='jet'):\n",
    "    # Loads the signal from disk:\n",
    "    tag_df = pd.read_csv(os.path.join(DATA, f'{tag}.csv'))\n",
    "    tag_df['timestamp'] = pd.to_datetime(tag_df['timestamp'], format='%Y-%m-%dT%H:%M:%S.%f')\n",
    "    tag_df = tag_df.set_index('timestamp')\n",
    "\n",
    "    # Build the MTF for this signal:\n",
    "    X = tag_df.values.reshape(1, -1)\n",
    "    mtf = MarkovTransitionField(image_size=image_size, n_bins=n_bins, strategy=strategy)\n",
    "    tag_mtf = mtf.fit_transform(X)\n",
    "\n",
    "    # Initializing figure:\n",
    "    fig = plt.figure(figsize=(28, 4))\n",
    "    gs = gridspec.GridSpec(1, 2, width_ratios=[1,4])\n",
    "\n",
    "    # Plotting MTF:\n",
    "    ax = fig.add_subplot(gs[0])\n",
    "    ax.set_title('Markov transition field')\n",
    "    _, mappable_image = tsia.plot.plot_markov_transition_field(mtf=tag_mtf[0], ax=ax, reversed_cmap=True)\n",
    "    plt.colorbar(mappable_image)\n",
    "    \n",
    "    # Plotting signal:\n",
    "    ax = fig.add_subplot(gs[1])\n",
    "    ax.set_title(f'Signal timeseries for tag {tag}')\n",
    "    mtf_map = tsia.markov.get_mtf_map(tag_df, tag_mtf[0], reversed_cmap=True, step_size=0)\n",
    "    _ = tsia.plot.plot_colored_timeseries(tag_df, mtf_map, ax=ax)\n",
    "        \n",
    "    return tag_mtf"
   ]
  },
  {
   "cell_type": "markdown",
   "metadata": {},
   "source": [
    "Let's have a look at a coarse MTF (`image_size=8` makes it quite coarse) to better understand what we can extract from this Markov field:"
   ]
  },
  {
   "cell_type": "code",
   "execution_count": null,
   "metadata": {},
   "outputs": [],
   "source": [
    "stats = []\n",
    "mtf = plot_colored_timeseries('signal-1', image_size=8)\n",
    "s = tsia.markov.compute_mtf_statistics(mtf[0])\n",
    "s.update({'Signal': 'signal-1'})\n",
    "stats.append(s)"
   ]
  },
  {
   "cell_type": "markdown",
   "metadata": {},
   "source": [
    "**What is the interpretation we can give to this plot?**\n",
    "* In average, the average transition probabiliy of the first section (in yellow) is around 19%: this means that the transitions that we see in this section do not happen very often (19% of the time) when we look at the whole signal.\n",
    "* In contrast, the section in dark blue (the sixth one), have transitions that happen more often in this signal (around 50% of the time)\n",
    "\n",
    "**The blue section is closer to the normal behavior of this signal whereas the yellow section is diverging more from it.** Let's have a look at the results we can get with a less coarse MTF and also from other signals. Let's also plot the MTF metrics for each of these signals..."
   ]
  },
  {
   "cell_type": "code",
   "execution_count": null,
   "metadata": {},
   "outputs": [],
   "source": [
    "mtf = plot_colored_timeseries('signal-2', image_size=48)\n",
    "_ = tsia.plot.plot_mtf_metrics(mtf[0])\n",
    "s = tsia.markov.compute_mtf_statistics(mtf[0])\n",
    "s.update({'Signal': 'signal-2'})\n",
    "stats.append(s)"
   ]
  },
  {
   "cell_type": "code",
   "execution_count": null,
   "metadata": {},
   "outputs": [],
   "source": [
    "mtf = plot_colored_timeseries('signal-3', image_size=48)\n",
    "_ = tsia.plot.plot_mtf_metrics(mtf[0])\n",
    "s = tsia.markov.compute_mtf_statistics(mtf[0])\n",
    "s.update({'Signal': 'signal-3'})\n",
    "stats.append(s)"
   ]
  },
  {
   "cell_type": "code",
   "execution_count": null,
   "metadata": {},
   "outputs": [],
   "source": [
    "mtf = plot_colored_timeseries('signal-4', image_size=48)\n",
    "_ = tsia.plot.plot_mtf_metrics(mtf[0])\n",
    "s = tsia.markov.compute_mtf_statistics(mtf[0])\n",
    "s.update({'Signal': 'signal-4'})\n",
    "stats.append(s)"
   ]
  },
  {
   "cell_type": "code",
   "execution_count": null,
   "metadata": {},
   "outputs": [],
   "source": [
    "mtf = plot_colored_timeseries('signal-5', image_size=48)\n",
    "_ = tsia.plot.plot_mtf_metrics(mtf[0])\n",
    "s = tsia.markov.compute_mtf_statistics(mtf[0])\n",
    "s.update({'Signal': 'signal-5'})\n",
    "stats.append(s)"
   ]
  },
  {
   "cell_type": "code",
   "execution_count": null,
   "metadata": {},
   "outputs": [],
   "source": [
    "mtf = plot_colored_timeseries('signal-6', image_size=48)\n",
    "_ = tsia.plot.plot_mtf_metrics(mtf[0])\n",
    "s = tsia.markov.compute_mtf_statistics(mtf[0])\n",
    "s.update({'Signal': 'signal-6'})\n",
    "stats.append(s)"
   ]
  },
  {
   "cell_type": "code",
   "execution_count": null,
   "metadata": {},
   "outputs": [],
   "source": [
    "mtf = plot_colored_timeseries('signal-7', image_size=48)\n",
    "_ = tsia.plot.plot_mtf_metrics(mtf[0])\n",
    "s = tsia.markov.compute_mtf_statistics(mtf[0])\n",
    "s.update({'Signal': 'signal-7'})\n",
    "stats.append(s)"
   ]
  },
  {
   "cell_type": "code",
   "execution_count": null,
   "metadata": {},
   "outputs": [],
   "source": [
    "stats = pd.DataFrame(stats)\n",
    "stats.set_index('Signal')"
   ]
  },
  {
   "cell_type": "markdown",
   "metadata": {},
   "source": [
    "## Network graphs\n",
    "---\n",
    "### Overview"
   ]
  },
  {
   "cell_type": "markdown",
   "metadata": {},
   "source": [
    "From the MTF, we can generate a graph `G = (V, E)`: we have a direct mapping between vertex *V* and the time index *i*. From there, there is two possible encoding of interest:\n",
    "* **Flow encoding:** this representation help us observe where do the big information flow occurs\n",
    "    * We map the flow of time to the vertex, using a color gradient from T0 to TN to color each node of the network graph\n",
    "    * We use the MTF weight to color the edges between vertices\n",
    "* **Modularity encoding:** modularity is an important pattern in network analysis to identify specific local structures.\n",
    "    * We map the module label (which *community ID*) to each vertex with a specific color attached to each community\n",
    "    * We map the size of the vertices to a clustering coefficient\n",
    "    * We map the edge color to the module label of the target vertex\n",
    "\n",
    "Let's start by loading a first signal and gets its MTF:"
   ]
  },
  {
   "cell_type": "code",
   "execution_count": null,
   "metadata": {},
   "outputs": [],
   "source": [
    "tag_df = pd.read_csv(os.path.join(DATA, 'signal-1.csv'))\n",
    "tag_df['timestamp'] = pd.to_datetime(tag_df['timestamp'], format='%Y-%m-%dT%H:%M:%S.%f')\n",
    "tag_df = tag_df.set_index('timestamp')\n",
    "\n",
    "image_size = 48\n",
    "X = tag_df.values.reshape(1, -1)\n",
    "mtf = MarkovTransitionField(image_size=image_size, n_bins=n_bins, strategy=strategy)\n",
    "tag_mtf = mtf.fit_transform(X)"
   ]
  },
  {
   "cell_type": "markdown",
   "metadata": {},
   "source": [
    "### Process decomposition\n",
    "In the following sections, we are going to decompose the way a network graph is built to better understand its properties and how it can be used to build our understanding of time series behavior:\n",
    "\n",
    "1. Build the network graph\n",
    "2. Compute the partitions and modularity and encode this information in the network graph representation\n",
    "3. Plot the network graph\n",
    "4. Map the partitions color back to the time series"
   ]
  },
  {
   "cell_type": "markdown",
   "metadata": {},
   "source": [
    "#### **1 -** Build the network graph"
   ]
  },
  {
   "cell_type": "markdown",
   "metadata": {},
   "source": [
    "We extract the graph from the MTF and plot a vanilla network graph from there:"
   ]
  },
  {
   "cell_type": "code",
   "execution_count": null,
   "metadata": {},
   "outputs": [],
   "source": [
    "G = tsia.network_graph.get_network_graph(tag_mtf[0])\n",
    "_ = tsia.plot.plot_network_graph(G, title='Network graph')"
   ]
  },
  {
   "cell_type": "markdown",
   "metadata": {},
   "source": [
    "#### **2 -** Encode partitions and modularity into the network graph representation\n",
    "The above network graph does not give us a lot of new insights. We will search for the communities in this network graph with the **[Louvain method](https://en.wikipedia.org/wiki/Louvain_method)**: **modularity** is a scale value between −0.5 (non-modular clustering) and 1 (fully modular clustering) that measures the relative density of edges inside communities with respect to edges outside communities. Optimizing this value theoretically results in the best possible grouping of the nodes of a given network, however going through all possible iterations of the nodes into groups is impractical so heuristic algorithms are used. In the Louvain Method of community detection, first small communities are found by optimizing modularity locally on all nodes, then each small community is grouped into one node and the first step is repeated. This method is implemented in the `community` package (documented **[here](https://python-louvain.readthedocs.io/en/latest/)**) and we use it in the `tsia` package to encode our network graph:"
   ]
  },
  {
   "cell_type": "code",
   "execution_count": null,
   "metadata": {},
   "outputs": [],
   "source": [
    "encoding = tsia.network_graph.get_modularity_encoding(G)"
   ]
  },
  {
   "cell_type": "markdown",
   "metadata": {},
   "source": [
    "On top of modularity and number of communities (or partitions), there are other statistics of interest we can compute from a network graph:"
   ]
  },
  {
   "cell_type": "code",
   "execution_count": null,
   "metadata": {},
   "outputs": [],
   "source": [
    "stats = tsia.network_graph.compute_network_graph_statistics(G)\n",
    "stats"
   ]
  },
  {
   "cell_type": "markdown",
   "metadata": {},
   "source": [
    "#### **3 -** Plot the network graph"
   ]
  },
  {
   "cell_type": "code",
   "execution_count": null,
   "metadata": {},
   "outputs": [],
   "source": [
    "nb_partitions = stats['Partitions']\n",
    "modularity = stats['Modularity']\n",
    "title = rf'Partitions: $\\bf{nb_partitions}$ - Modularity: $\\bf{modularity:.3f}$'\n",
    "_ = tsia.plot.plot_network_graph(G, title=title, encoding=encoding)"
   ]
  },
  {
   "cell_type": "markdown",
   "metadata": {},
   "source": [
    "**What is the interpretation we can give to this plot?** The modularity metric and the Louvain methods uncovers 4 communities in this signal. At this stage, it is difficult to understand how we can leverage this knowledge though..."
   ]
  },
  {
   "cell_type": "markdown",
   "metadata": {},
   "source": [
    "#### **5 -** Map the partitions color back to the time series"
   ]
  },
  {
   "cell_type": "code",
   "execution_count": null,
   "metadata": {},
   "outputs": [],
   "source": [
    "ng_map = tsia.network_graph.get_network_graph_map(tag_df, encoding, reversed_cmap=True)\n",
    "_ = tsia.plot.plot_colored_timeseries(tag_df, ng_map)"
   ]
  },
  {
   "cell_type": "markdown",
   "metadata": {},
   "source": [
    "Each community detected in the network graphs has its own shapelet in the original time series. Let's now further build our intuition by drawing the same plot for the other signals from before:"
   ]
  },
  {
   "cell_type": "code",
   "execution_count": null,
   "metadata": {},
   "outputs": [],
   "source": [
    "def plot_communities_timeseries(tag, image_size=48, colormap='jet'):\n",
    "    # Loads the signal from disk:\n",
    "    tag_df = pd.read_csv(os.path.join(DATA, f'{tag}.csv'))\n",
    "    tag_df['timestamp'] = pd.to_datetime(tag_df['timestamp'], format='%Y-%m-%dT%H:%M:%S.%f')\n",
    "    tag_df = tag_df.set_index('timestamp')\n",
    "    \n",
    "    X = tag_df.values.reshape(1, -1)\n",
    "    mtf = MarkovTransitionField(image_size=image_size, n_bins=n_bins, strategy=strategy)\n",
    "    tag_mtf = mtf.fit_transform(X)\n",
    "    \n",
    "    G = tsia.network_graph.get_network_graph(tag_mtf[0])\n",
    "    statistics = tsia.network_graph.compute_network_graph_statistics(G)\n",
    "    nb_partitions = statistics['Partitions']\n",
    "    modularity = statistics['Modularity']\n",
    "    encoding = tsia.network_graph.get_modularity_encoding(G, reversed_cmap=True)\n",
    "    ng_map = tsia.network_graph.get_network_graph_map(tag_df, encoding, reversed_cmap=True)\n",
    "    \n",
    "    fig = plt.figure(figsize=(28, 4))\n",
    "    gs = gridspec.GridSpec(1, 2, width_ratios=[1,4])\n",
    "\n",
    "    ax = fig.add_subplot(gs[0])\n",
    "    title = rf'Partitions: $\\bf{nb_partitions}$ - Modularity: $\\bf{modularity:.3f}$'\n",
    "    tsia.plot.plot_network_graph(G, ax=ax, title=title, reversed_cmap=True, encoding=encoding)\n",
    "    \n",
    "    ax = fig.add_subplot(gs[1])\n",
    "    tsia.plot.plot_colored_timeseries(tag_df, ng_map, ax=ax)\n",
    "    \n",
    "    return statistics"
   ]
  },
  {
   "cell_type": "code",
   "execution_count": null,
   "metadata": {},
   "outputs": [],
   "source": [
    "signals = [f'signal-{i}' for i in range(1,7)]\n",
    "\n",
    "stats = []\n",
    "for signal in signals:\n",
    "    s = plot_communities_timeseries(signal)\n",
    "    s.update({'Signal': signal})\n",
    "    stats.append(s)"
   ]
  },
  {
   "cell_type": "markdown",
   "metadata": {},
   "source": [
    "Features that can be extracted from network graphs:"
   ]
  },
  {
   "cell_type": "code",
   "execution_count": null,
   "metadata": {},
   "outputs": [],
   "source": [
    "stats = pd.DataFrame(stats)\n",
    "stats.set_index('Signal')"
   ]
  },
  {
   "cell_type": "markdown",
   "metadata": {},
   "source": [
    "## Conclusion and future work\n",
    "---"
   ]
  },
  {
   "cell_type": "markdown",
   "metadata": {},
   "source": [
    "Mapping **Markov transition fields** transition probabilities back onto the time series signal appears like a great tool to provide feedback to end users about the behavior of a given signal. On the other hand, mapping network graphs communities back to original time series does not seem to bring much values: however, the features extracted from these networks graphs (see table above) will be interesting to use to automatically qualify the usability of the signals for a given use case. As one of the future area of investigation, we are interested into investigating how these tools could be applied to multivariate timeseries (especially highly dimensional ones as we can find in industrial settings with hundreds if not thousands of sensors per industrial equipment).\n",
    "\n",
    "### Potential usage\n",
    "Markov transition fields and network graphs could be potentially used:\n",
    "* To compare training and validation dataset consistency (and detect concept drift).\n",
    "* To train semi-supervised anomaly prediction models: train a temporal CNN on normal signals, perform and inline MTF calculation every minute (for instance) and compare inference results with the trained model to detect signal behavior change.\n",
    "* To further explain why an unsupervised time series model found something of interest.\n",
    "\n",
    "## References\n",
    "---\n",
    "* Wang, Zhiguang; Oates, Tim (2015), *Imaging Time-Series to Improve Classification and Imputation*, Arxiv\n",
    "* Liu, Lu.; Wang, Zhiguang (2018) *Encoding temporal Markov dynamics in graph for visualizing and mining time series* Arxiv."
   ]
  }
 ],
 "metadata": {
  "kernelspec": {
   "display_name": "conda_python3",
   "language": "python",
   "name": "conda_python3"
  },
  "language_info": {
   "codemirror_mode": {
    "name": "ipython",
    "version": 3
   },
   "file_extension": ".py",
   "mimetype": "text/x-python",
   "name": "python",
   "nbconvert_exporter": "python",
   "pygments_lexer": "ipython3",
   "version": "3.6.10"
  }
 },
 "nbformat": 4,
 "nbformat_minor": 4
}
